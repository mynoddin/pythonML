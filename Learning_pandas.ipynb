{
 "cells": [
  {
   "cell_type": "markdown",
   "id": "3dbedb6c-562c-4630-8f15-bb52b22ae037",
   "metadata": {},
   "source": [
    "# Pandas has three types of data structures (Series, DataFrame and Panel) "
   ]
  },
  {
   "cell_type": "markdown",
   "id": "046ab79e-5508-4b35-9331-5b1df5023ba1",
   "metadata": {},
   "source": [
    "## Creating Series from ndarray "
   ]
  },
  {
   "cell_type": "code",
   "execution_count": 7,
   "id": "3a3201b5-a27f-4021-9327-3057cb1e1bb3",
   "metadata": {},
   "outputs": [
    {
     "name": "stdout",
     "output_type": "stream",
     "text": [
      "0    10\n",
      "1    20\n",
      "2    30\n",
      "3    40\n",
      "4    50\n",
      "dtype: int32\n"
     ]
    }
   ],
   "source": [
    "import numpy as np\n",
    "import pandas as pd \n",
    "\n",
    "arr = np.array([10,20,30,40,50]) \n",
    "\n",
    "seriesPd = pd.Series(arr) \n",
    "print(seriesPd)"
   ]
  },
  {
   "cell_type": "code",
   "execution_count": 10,
   "id": "a21d165c-b485-4ec0-aabc-7f798ebe5d3b",
   "metadata": {},
   "outputs": [
    {
     "name": "stdout",
     "output_type": "stream",
     "text": [
      "a   -0.629476\n",
      "b    1.486463\n",
      "c   -0.576203\n",
      "d    0.692977\n",
      "e    1.178897\n",
      "dtype: float64\n"
     ]
    }
   ],
   "source": [
    "s = pd.Series(np.random.randn(5), index=['a','b','c','d','e'])\n",
    "print(s) "
   ]
  },
  {
   "cell_type": "code",
   "execution_count": 11,
   "id": "2be63162-c7cc-466a-a073-1fa091805725",
   "metadata": {},
   "outputs": [
    {
     "name": "stdout",
     "output_type": "stream",
     "text": [
      "Index(['a', 'b', 'c', 'd', 'e'], dtype='object')\n"
     ]
    }
   ],
   "source": [
    "print(s.index) "
   ]
  },
  {
   "cell_type": "code",
   "execution_count": 12,
   "id": "2157f8c0-eb2d-4420-a06e-f35e33553605",
   "metadata": {},
   "outputs": [
    {
     "name": "stdout",
     "output_type": "stream",
     "text": [
      "a    10\n",
      "b    23\n",
      "c    24\n",
      "dtype: int64\n"
     ]
    }
   ],
   "source": [
    "# Creating Series from python dictionary \n",
    "data = {'a': 10, 'b':23, 'c': 24} \n",
    "df = pd.Series(data) \n",
    "print(df) "
   ]
  },
  {
   "cell_type": "code",
   "execution_count": 14,
   "id": "0b94a2bf-9b24-447c-a397-5e92b6c805c8",
   "metadata": {},
   "outputs": [
    {
     "name": "stdout",
     "output_type": "stream",
     "text": [
      "a    10.0\n",
      "b    23.0\n",
      "c    24.0\n",
      "d     NaN\n",
      "e     NaN\n",
      "dtype: float64\n"
     ]
    }
   ],
   "source": [
    "# Creating Series from python dictionary \n",
    "data = {'a': 10, 'b':23, 'c': 24} \n",
    "df = pd.Series(data, index=['a','b','c','d','e']) \n",
    "print(df) "
   ]
  },
  {
   "cell_type": "code",
   "execution_count": 15,
   "id": "98c98142-48a0-4d7f-baee-8c23aad66fa3",
   "metadata": {},
   "outputs": [
    {
     "name": "stdout",
     "output_type": "stream",
     "text": [
      "a    5.0\n",
      "b    5.0\n",
      "c    5.0\n",
      "dtype: float64\n"
     ]
    }
   ],
   "source": [
    "# Creating Series from Scaler Values \n",
    "df = pd.Series(5.0, index = ['a','b','c']) \n",
    "print(df) "
   ]
  },
  {
   "cell_type": "markdown",
   "id": "12cc155d-470e-4dfa-995d-28ff20703286",
   "metadata": {},
   "source": [
    "# Accessing values from series "
   ]
  },
  {
   "cell_type": "code",
   "execution_count": 17,
   "id": "87079bc5-c95d-4f16-9216-b92c26c73119",
   "metadata": {},
   "outputs": [
    {
     "name": "stdout",
     "output_type": "stream",
     "text": [
      "0    10\n",
      "1    20\n",
      "2    30\n",
      "3    40\n",
      "4    50\n",
      "dtype: int32\n"
     ]
    }
   ],
   "source": [
    "#slicing or slice of index \n",
    "import numpy as np\n",
    "import pandas as pd \n",
    "\n",
    "a = pd.Series(np.array([10,20,30,40,50]))\n",
    "print(a)"
   ]
  },
  {
   "cell_type": "code",
   "execution_count": 22,
   "id": "58701494-c057-4308-b809-b91d9049dd1e",
   "metadata": {},
   "outputs": [
    {
     "name": "stdout",
     "output_type": "stream",
     "text": [
      "Whole series: \n",
      " 0    10\n",
      "1    20\n",
      "2    30\n",
      "3    40\n",
      "4    50\n",
      "dtype: int32\n",
      "INDEX from - 1 to 3: \n",
      " 1    20\n",
      "2    30\n",
      "dtype: int32\n",
      "Reverse : \n",
      " 4    50\n",
      "3    40\n",
      "2    30\n",
      "1    20\n",
      "0    10\n",
      "dtype: int32\n"
     ]
    }
   ],
   "source": [
    "#Slicing \n",
    "print(\"Whole series: \\n\",a[:]) \n",
    "print(\"INDEX from - 1 to 3: \\n\",a[1:3]) \n",
    "print(\"Reverse : \\n\", a[::-1]) "
   ]
  },
  {
   "cell_type": "code",
   "execution_count": 23,
   "id": "5925eb11-e66a-4b34-a9d0-f4b46b8f4c31",
   "metadata": {},
   "outputs": [
    {
     "name": "stdout",
     "output_type": "stream",
     "text": [
      "23.0\n"
     ]
    }
   ],
   "source": [
    "# Creating Series from python dictionary \n",
    "data = {'a': 10, 'b':23, 'c': 24} \n",
    "df = pd.Series(data, index=['a','b','c','d','e']) \n",
    "print(df['b']) # Dictionary like accessing  "
   ]
  },
  {
   "cell_type": "code",
   "execution_count": 24,
   "id": "23d55105-78e6-47e6-b4c2-0ce2592b5975",
   "metadata": {},
   "outputs": [
    {
     "name": "stdout",
     "output_type": "stream",
     "text": [
      "a    20.0\n",
      "b    46.0\n",
      "c    48.0\n",
      "d     NaN\n",
      "e     NaN\n",
      "dtype: float64\n"
     ]
    }
   ],
   "source": [
    "print(df + df) "
   ]
  },
  {
   "cell_type": "code",
   "execution_count": 27,
   "id": "294c4a5e-0d9f-4646-8b03-cf85d56d5713",
   "metadata": {},
   "outputs": [
    {
     "name": "stdout",
     "output_type": "stream",
     "text": [
      "a    30.0\n",
      "b    69.0\n",
      "c    72.0\n",
      "d     NaN\n",
      "e     NaN\n",
      "dtype: float64\n"
     ]
    }
   ],
   "source": [
    "print(df * 3) "
   ]
  },
  {
   "cell_type": "code",
   "execution_count": 29,
   "id": "b7014be6-d165-4fdc-b3c2-30ccf05d7516",
   "metadata": {},
   "outputs": [
    {
     "name": "stdout",
     "output_type": "stream",
     "text": [
      "20.085536923187668\n"
     ]
    }
   ],
   "source": [
    "print(np.exp(3))"
   ]
  },
  {
   "cell_type": "code",
   "execution_count": 30,
   "id": "8f0b3098-f4a1-4705-8d39-caf159780efb",
   "metadata": {},
   "outputs": [
    {
     "name": "stdout",
     "output_type": "stream",
     "text": [
      "0   -1.412061\n",
      "1    1.139124\n",
      "2    0.663515\n",
      "3    0.375856\n",
      "4    0.515259\n",
      "Name: something, dtype: float64\n"
     ]
    }
   ],
   "source": [
    "s = pd.Series(np.random.randn(5), name='something')\n",
    "print(s)"
   ]
  },
  {
   "cell_type": "code",
   "execution_count": null,
   "id": "9940130c-3956-476c-a7bc-9e1b88b02a06",
   "metadata": {},
   "outputs": [],
   "source": [
    "import pandas as pd\n",
    "\n",
    "# =========================\n",
    "# 1. Loading Data\n",
    "# =========================\n",
    "# Load CSV file\n",
    "data = pd.read_csv('data.csv')\n",
    "\n",
    "# Load Excel file\n",
    "data_excel = pd.read_excel('data.xlsx')\n",
    "\n",
    "# Display the first few rows\n",
    "print(data.head())\n",
    "\n",
    "# =========================\n",
    "# 2. Understanding DataFrame Structure\n",
    "# =========================\n",
    "# Display basic info about the DataFrame\n",
    "print(data.info())\n",
    "\n",
    "# Shape of the DataFrame (rows, columns)\n",
    "print(\"Shape:\", data.shape)\n",
    "\n",
    "# Column names\n",
    "print(\"Columns:\", data.columns)\n",
    "\n",
    "# Summary statistics\n",
    "print(data.describe())\n",
    "\n",
    "# =========================\n",
    "# 3. Selecting Data\n",
    "# =========================\n",
    "# Select a single column\n",
    "single_column = data['ColumnName']\n",
    "\n",
    "# Select multiple columns\n",
    "multiple_columns = data[['Column1', 'Column2']]\n",
    "\n",
    "# Select specific rows\n",
    "first_row = data.iloc[0]  # First row\n",
    "subset_rows = data.iloc[1:5]  # Rows 1 to 4\n",
    "\n",
    "# Select rows and columns using labels\n",
    "selected_data = data.loc[0:3, ['Column1', 'Column2']]\n",
    "\n",
    "# =========================\n",
    "# 4. Filtering Data\n",
    "# =========================\n",
    "# Filter rows based on a condition\n",
    "filtered_data = data[data['ColumnName'] > 10]\n",
    "\n",
    "# Filter rows with multiple conditions\n",
    "filtered_data = data[(data['Column1'] > 10) & (data['Column2'] == 'Category')]\n",
    "\n",
    "# =========================\n",
    "# 5. Sorting Data\n",
    "# =========================\n",
    "# Sort by a single column\n",
    "sorted_data = data.sort_values(by='ColumnName')\n",
    "\n",
    "# Sort by multiple columns\n",
    "sorted_data = data.sort_values(by=['Column1', 'Column2'], ascending=[True, False])\n",
    "\n",
    "# =========================\n",
    "# 6. Renaming Columns\n",
    "# =========================\n",
    "# Rename specific columns\n",
    "data = data.rename(columns={'OldName': 'NewName'})\n",
    "\n",
    "# =========================\n",
    "# 7. Basic Row and Column Operations\n",
    "# =========================\n",
    "# Add a new column\n",
    "data['NewColumn'] = data['Column1'] + data['Column2']\n",
    "\n",
    "# Drop a column\n",
    "data = data.drop(columns=['ColumnName'])\n",
    "\n",
    "# Drop a row\n",
    "data = data.drop(index=[0])  # Drop the first row\n",
    "\n",
    "# =========================\n",
    "# Practice Dataset\n",
    "# =========================\n",
    "# Create a simple DataFrame to practice\n",
    "data = pd.DataFrame({\n",
    "    'Name': ['Alice', 'Bob', 'Charlie'],\n",
    "    'Age': [25, 30, 35],\n",
    "    'Salary': [50000, 60000, 70000]\n",
    "})\n",
    "\n",
    "print(data)\n"
   ]
  },
  {
   "cell_type": "code",
   "execution_count": null,
   "id": "5e0e091c-a08f-48f7-ad53-fd42c1ab7b32",
   "metadata": {},
   "outputs": [],
   "source": []
  }
 ],
 "metadata": {
  "kernelspec": {
   "display_name": "Python 3 (ipykernel)",
   "language": "python",
   "name": "python3"
  },
  "language_info": {
   "codemirror_mode": {
    "name": "ipython",
    "version": 3
   },
   "file_extension": ".py",
   "mimetype": "text/x-python",
   "name": "python",
   "nbconvert_exporter": "python",
   "pygments_lexer": "ipython3",
   "version": "3.11.9"
  }
 },
 "nbformat": 4,
 "nbformat_minor": 5
}
