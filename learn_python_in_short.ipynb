{
 "cells": [
  {
   "cell_type": "markdown",
   "metadata": {},
   "source": [
    "Python is a very easy and human like language, and you can learn this programming language very fast and easy. \n",
    "Though we are going to use this programming language for Machine Learning Purpose, we are not going to deal any serious language syntex and shall concentrate on basic and necessary language construct only. So, let's begin: "
   ]
  },
  {
   "cell_type": "code",
   "execution_count": 1,
   "metadata": {},
   "outputs": [
    {
     "name": "stdout",
     "output_type": "stream",
     "text": [
      "Welcome to python for ML\n",
      "Hope you will enjoy the rest\n"
     ]
    }
   ],
   "source": [
    "# let's print welcome message with python\n",
    "print('Welcome to python for ML')\n",
    "print('Hope you will enjoy the rest')"
   ]
  },
  {
   "cell_type": "code",
   "execution_count": 3,
   "metadata": {},
   "outputs": [
    {
     "name": "stdout",
     "output_type": "stream",
     "text": [
      "<class 'int'>\n",
      "<class 'float'>\n",
      "<class 'str'>\n"
     ]
    }
   ],
   "source": [
    "''' \n",
    "    In python programming language don't have to declare data_type explicitly that\n",
    "    means it has dynamic data type. You just declare the variable and set value, it will automatically \n",
    "    it's type by evaluating the data type. \n",
    "    data = 10   # Here data is Integer type\n",
    "    data = 10.2 # Here data is Float type\n",
    "    data = \"Test Data\"  # Here data is string type data \n",
    "    '+' concatenate string and print statement always pass string value. \n",
    "    Lets write some code \n",
    "\n",
    "'''\n",
    "data = 10   \n",
    "print(type(data))\n",
    "data = 10.2 \n",
    "print(type(data))\n",
    "data = \"Test Data\"\n",
    "print(type(data))\n"
   ]
  },
  {
   "cell_type": "code",
   "execution_count": 13,
   "metadata": {
    "scrolled": true
   },
   "outputs": [
    {
     "name": "stdout",
     "output_type": "stream",
     "text": [
      "10 20\n",
      "30\n",
      "10\n",
      "200\n",
      "0.5\n",
      "0\n",
      "100000000000000000000\n",
      "10\n",
      "hello hello hello hello hello hello hello hello hello hello \n"
     ]
    }
   ],
   "source": [
    "# Python Operator \n",
    "a, b = 10, 20 \n",
    "print(a,b)\n",
    "print(a + b) \n",
    "print(b - a)\n",
    "print(a * b)\n",
    "print(a / b) #Float division \n",
    "print(a // b) # Integer division \n",
    "print(a**b) # exponentiation \n",
    "print(a % b) \n",
    "srt = \"hello \"\n",
    "print(srt * 10) # string replication \n"
   ]
  },
  {
   "cell_type": "code",
   "execution_count": 6,
   "metadata": {},
   "outputs": [
    {
     "name": "stdout",
     "output_type": "stream",
     "text": [
      "X is even\n",
      "This is the if block, python block is indented not braces based\n"
     ]
    }
   ],
   "source": [
    "x = 12 \n",
    "y = 13\n",
    "if (x%2==0): \n",
    "    print(\"X is even\")\n",
    "    print(\"This is the if block, python block is indented not braces based\")\n",
    "else: \n",
    "    print(\"X is odd\")\n",
    "    print(\"Else block\")\n",
    "    "
   ]
  },
  {
   "cell_type": "raw",
   "metadata": {},
   "source": [
    "Before going to understand Python flow control statement need to know how python uses boolean operator (and, or, not) and other comparison operator :  ==, != , <, >, >=, <= "
   ]
  },
  {
   "cell_type": "code",
   "execution_count": 7,
   "metadata": {},
   "outputs": [
    {
     "name": "stdout",
     "output_type": "stream",
     "text": [
      "Passed\n"
     ]
    }
   ],
   "source": [
    "# if-elif-else structure \n",
    "x = 40 \n",
    "if x >= 40 and x < 50: \n",
    "    print('Passed')\n",
    "elif x>=50 and x < 60: \n",
    "    print('Second Class')\n",
    "elif x>=60 and x<=100: \n",
    "    print(\"First Class\")\n",
    "else: \n",
    "    print('Failed')"
   ]
  },
  {
   "cell_type": "raw",
   "metadata": {},
   "source": [
    "For taking console input use input() function, which always takes string input"
   ]
  },
  {
   "cell_type": "code",
   "execution_count": null,
   "metadata": {},
   "outputs": [],
   "source": [
    "print(\"Enter your name : \")\n",
    "name = input()\n",
    "print(\"Enter your password : \")\n",
    "password = input() \n",
    "if name == 'Mary':\n",
    "    print(\"Hello Mary\")\n",
    "if password == 'swordfish':\n",
    "    print(\"Access granted\")\n",
    "else: \n",
    "    print(\"Wrong Password\") "
   ]
  },
  {
   "cell_type": "code",
   "execution_count": 8,
   "metadata": {},
   "outputs": [
    {
     "name": "stdout",
     "output_type": "stream",
     "text": [
      "<class 'bool'>\n",
      "False\n",
      "True\n",
      "False\n",
      "True\n"
     ]
    }
   ],
   "source": [
    "# Boolean operator are \n",
    "'''\n",
    "    and \n",
    "    or \n",
    "    not \n",
    "'''\n",
    "\n",
    "t = True\n",
    "f = False\n",
    "print(type(t)) # Prints \"<class 'bool'>\"\n",
    "print(t and f) # Logical AND; prints \"False\"\n",
    "print(t or f)  # Logical OR; prints \"True\"\n",
    "print(not t)   # Logical NOT; prints \"False\"\n",
    "print(t != f)  # Logical XOR; prints \"True\"\n"
   ]
  },
  {
   "cell_type": "code",
   "execution_count": 9,
   "metadata": {},
   "outputs": [
    {
     "name": "stdout",
     "output_type": "stream",
     "text": [
      "hello\n",
      "5\n",
      "hello world\n",
      "hello world 12\n"
     ]
    }
   ],
   "source": [
    "# Strings: Python has great support for strings:\n",
    "\n",
    "hello = 'hello' # string literals can use single quotes \n",
    "world = \"world\" # or double qoutes; it does not matter \n",
    "print(hello)  # prints \"hello\"\n",
    "print(len(hello)) #string length print \"5\" \n",
    "hw = hello + ' ' + world \n",
    "print(hw)\n",
    "\n",
    "hw12 = '%s %s %d' % (hello, world, 12) # c program sprintf style formatting \n",
    "print(hw12)  # prints 'hello world 12'"
   ]
  },
  {
   "cell_type": "code",
   "execution_count": 12,
   "metadata": {},
   "outputs": [
    {
     "name": "stdout",
     "output_type": "stream",
     "text": [
      "HelloWorld\n",
      "cats dogs mice\n",
      "cats,dogs,mice\n"
     ]
    }
   ],
   "source": [
    "# ****** Some printing techniques using print functions ************ # \n",
    "\n",
    "print('Hello', end='') # end='' will truncate new line options \n",
    "print('World')\n",
    "print('cats', 'dogs', 'mice') #prints the individual words here\n",
    "print('cats', 'dogs', 'mice', sep=',')\n",
    "\n"
   ]
  },
  {
   "cell_type": "code",
   "execution_count": null,
   "metadata": {},
   "outputs": [],
   "source": [
    "# String objects have a bunch of useful methods; for example:\n",
    "s = \"hello\"\n",
    "print(s.capitalize())  # Capitalize a string; prints \"Hello\"\n",
    "print(s.upper())       # Convert a string to uppercase; prints \"HELLO\"\n",
    "print(s.rjust(7))      # Right-justify a string, padding with spaces; prints \"  hello\"\n",
    "print(s.center(7))     # Center a string, padding with spaces; prints \" hello \"\n",
    "print(s.replace('l', '(ell)'))  # Replace all instances of one substring with another;\n",
    "                                # prints \"he(ell)(ell)o\"\n",
    "print('  world '.strip())  # Strip leading and trailing whitespace; prints \"world\"\n"
   ]
  },
  {
   "cell_type": "markdown",
   "metadata": {},
   "source": [
    "For more python string operation you can refer to the following : \n",
    "\n",
    "https://docs.python.org/3.5/library/stdtypes.html#string-methods\n",
    "\n"
   ]
  },
  {
   "cell_type": "code",
   "execution_count": 13,
   "metadata": {
    "scrolled": true
   },
   "outputs": [
    {
     "name": "stdout",
     "output_type": "stream",
     "text": [
      "Hello World,  0\n",
      "Hello World,  1\n",
      "Hello World,  2\n",
      "Hello World,  3\n",
      "Hello World,  4\n"
     ]
    }
   ],
   "source": [
    "# While loop \n",
    "spam = 0 \n",
    "while spam < 5: \n",
    "    print(\"Hello World, \", spam)\n",
    "    spam = spam + 1"
   ]
  },
  {
   "cell_type": "code",
   "execution_count": 14,
   "metadata": {},
   "outputs": [
    {
     "name": "stdout",
     "output_type": "stream",
     "text": [
      "Please enter your name \n",
      "Mynoddin\n",
      "Thank you\n"
     ]
    }
   ],
   "source": [
    "# Use of break keyword \n",
    "while True: \n",
    "    print(\"Please enter your name \")\n",
    "    name = input() \n",
    "    if name == 'Mynoddin':\n",
    "        break\n",
    "print('Thank you')"
   ]
  },
  {
   "cell_type": "code",
   "execution_count": 15,
   "metadata": {},
   "outputs": [
    {
     "name": "stdout",
     "output_type": "stream",
     "text": [
      "Who are you? \n",
      "Joe\n",
      "Hello, Joe. What is the password? (It is a fish.)\n",
      "sowrdfish\n",
      "Who are you? \n",
      "Joe\n",
      "Hello, Joe. What is the password? (It is a fish.)\n",
      "swordfish\n",
      "Access granted.\n"
     ]
    }
   ],
   "source": [
    "# using continue keyword \n",
    "while True: \n",
    "    print('Who are you? ')\n",
    "    name = input() \n",
    "    if name != 'Joe': \n",
    "        continue\n",
    "    print('Hello, Joe. What is the password? (It is a fish.)')\n",
    "    password = input()\n",
    "    if password == 'swordfish': \n",
    "        break \n",
    "print(\"Access granted.\")"
   ]
  },
  {
   "cell_type": "markdown",
   "metadata": {},
   "source": [
    "# For loops and the range functions:"
   ]
  },
  {
   "cell_type": "code",
   "execution_count": null,
   "metadata": {},
   "outputs": [],
   "source": [
    "print(\"My name is : \")\n",
    "for i in range(5): \n",
    "    print('Jimmy Five Times (' + str(i) + ')')  "
   ]
  },
  {
   "cell_type": "code",
   "execution_count": 16,
   "metadata": {},
   "outputs": [
    {
     "name": "stdout",
     "output_type": "stream",
     "text": [
      "5050\n"
     ]
    }
   ],
   "source": [
    "total = 0\n",
    "for num in range(101):\n",
    "    total = total + num\n",
    "print(total)"
   ]
  },
  {
   "cell_type": "code",
   "execution_count": 17,
   "metadata": {},
   "outputs": [
    {
     "name": "stdout",
     "output_type": "stream",
     "text": [
      "1\n",
      "3\n",
      "5\n",
      "7\n",
      "9\n"
     ]
    }
   ],
   "source": [
    "for i in range(1,10,2):\n",
    "    print (i)"
   ]
  },
  {
   "cell_type": "code",
   "execution_count": 18,
   "metadata": {},
   "outputs": [
    {
     "name": "stdout",
     "output_type": "stream",
     "text": [
      "5\n",
      "4\n",
      "3\n",
      "2\n",
      "1\n",
      "0\n",
      "-1\n"
     ]
    }
   ],
   "source": [
    "for i in range(5,-2,-1): \n",
    "    print(i)"
   ]
  },
  {
   "cell_type": "code",
   "execution_count": 19,
   "metadata": {},
   "outputs": [
    {
     "name": "stdout",
     "output_type": "stream",
     "text": [
      "10\n",
      "6\n",
      "9\n",
      "4\n",
      "8\n"
     ]
    }
   ],
   "source": [
    "# importing module \n",
    "import random\n",
    "for i in range(5):\n",
    "    print(random.randint(1,10))"
   ]
  },
  {
   "cell_type": "code",
   "execution_count": 20,
   "metadata": {},
   "outputs": [
    {
     "name": "stdout",
     "output_type": "stream",
     "text": [
      "Type exit to exit : \n",
      "exit\n"
     ]
    },
    {
     "ename": "SystemExit",
     "evalue": "",
     "output_type": "error",
     "traceback": [
      "An exception has occurred, use %tb to see the full traceback.\n",
      "\u001b[0;31mSystemExit\u001b[0m\n"
     ]
    },
    {
     "name": "stderr",
     "output_type": "stream",
     "text": [
      "/home/mynoddin/anaconda3/lib/python3.7/site-packages/IPython/core/interactiveshell.py:3275: UserWarning: To exit: use 'exit', 'quit', or Ctrl-D.\n",
      "  warn(\"To exit: use 'exit', 'quit', or Ctrl-D.\", stacklevel=1)\n"
     ]
    }
   ],
   "source": [
    "#Enging a program early with sys.exit\n",
    "import sys\n",
    "while True:\n",
    "    print(\"Type exit to exit : \")\n",
    "    response = input() \n",
    "    if response == 'exit':\n",
    "        sys.exit()\n",
    "    print('You typed ' + response + '.')"
   ]
  },
  {
   "cell_type": "markdown",
   "metadata": {},
   "source": [
    "# Wring Functions in Python: "
   ]
  },
  {
   "cell_type": "code",
   "execution_count": 21,
   "metadata": {},
   "outputs": [
    {
     "name": "stdout",
     "output_type": "stream",
     "text": [
      "Howdy!\n",
      "Howdy!!\n",
      "Hello there\n",
      "Howdy!\n",
      "Howdy!!\n",
      "Hello there\n"
     ]
    }
   ],
   "source": [
    "def hello():\n",
    "    print('Howdy!')\n",
    "    print('Howdy!!')\n",
    "    print('Hello there')\n",
    "hello() \n",
    "hello() "
   ]
  },
  {
   "cell_type": "raw",
   "metadata": {},
   "source": [
    "Def statement with parameter:"
   ]
  },
  {
   "cell_type": "code",
   "execution_count": 22,
   "metadata": {},
   "outputs": [
    {
     "name": "stdout",
     "output_type": "stream",
     "text": [
      "Hello Alice\n",
      "Hello Bob\n"
     ]
    }
   ],
   "source": [
    "def hello(name):\n",
    "    print('Hello ' + name)\n",
    "hello('Alice') \n",
    "hello('Bob')"
   ]
  },
  {
   "cell_type": "raw",
   "metadata": {},
   "source": [
    "return type in python functions\n"
   ]
  },
  {
   "cell_type": "code",
   "execution_count": 23,
   "metadata": {},
   "outputs": [
    {
     "name": "stdout",
     "output_type": "stream",
     "text": [
      "Ask again later\n"
     ]
    }
   ],
   "source": [
    "import random \n",
    "def getAnswer(answerNumber): \n",
    "    if answerNumber == 1: \n",
    "        return 'It is certain'\n",
    "    elif answerNumber == 2: \n",
    "        return 'It is decidely so'\n",
    "    elif answerNumber == 3: \n",
    "        return 'Yes '\n",
    "    elif answerNumber == 4: \n",
    "        return 'Reply Hazy try again'\n",
    "    elif answerNumber == 5: \n",
    "        return 'Ask again later'\n",
    "    elif answerNumber == 6: \n",
    "        return 'Concentrate and ask again'\n",
    "    elif answerNumber == 7: \n",
    "        return 'My reply is no'\n",
    "    elif answerNumber == 8: \n",
    "        return 'Outlook not so good'\n",
    "    elif answerNumber == 9: \n",
    "        return 'Very doubtful'\n",
    "r = random.randint(1,9)\n",
    "fortune = getAnswer(r) \n",
    "print(fortune)"
   ]
  },
  {
   "cell_type": "raw",
   "metadata": {},
   "source": [
    "Local and Global Scope :  \n",
    "Normally local scope are local and global scope are global \n",
    "but if you want to use global variable in local you have to use global statement \n",
    "\n",
    "\n",
    "```\n",
    "# This is formatted as code\n",
    "def localF():\n",
    "    global eggs\n",
    "    eggs = \"spam\"\n",
    "    print(eggs)\n",
    "eggs = \"not spam\"\n",
    "print(eggs)\n",
    "localF()\n",
    "```\n"
   ]
  },
  {
   "cell_type": "code",
   "execution_count": 2,
   "metadata": {},
   "outputs": [
    {
     "name": "stdout",
     "output_type": "stream",
     "text": [
      "not spam - from global scope\n",
      "spam - from local scope\n"
     ]
    }
   ],
   "source": [
    "#local and global scope \n",
    "def localF(): \n",
    "    global eggs\n",
    "    eggs = \"spam - from local scope\"\n",
    "    print(eggs)\n",
    "eggs = \"not spam - from global scope\" \n",
    "print(eggs)\n",
    "localF()"
   ]
  },
  {
   "cell_type": "raw",
   "metadata": {},
   "source": [
    "Exception Handling :  Folowing code has exception but not handled "
   ]
  },
  {
   "cell_type": "code",
   "execution_count": 4,
   "metadata": {},
   "outputs": [
    {
     "name": "stdout",
     "output_type": "stream",
     "text": [
      "21.0\n",
      "1.0\n"
     ]
    },
    {
     "ename": "ZeroDivisionError",
     "evalue": "division by zero",
     "output_type": "error",
     "traceback": [
      "\u001b[0;31m---------------------------------------------------------------------------\u001b[0m",
      "\u001b[0;31mZeroDivisionError\u001b[0m                         Traceback (most recent call last)",
      "\u001b[0;32m<ipython-input-4-ffc585101112>\u001b[0m in \u001b[0;36m<module>\u001b[0;34m\u001b[0m\n\u001b[1;32m      3\u001b[0m \u001b[0mprint\u001b[0m\u001b[0;34m(\u001b[0m\u001b[0mdivide42\u001b[0m\u001b[0;34m(\u001b[0m\u001b[0;36m2\u001b[0m\u001b[0;34m)\u001b[0m\u001b[0;34m)\u001b[0m\u001b[0;34m\u001b[0m\u001b[0;34m\u001b[0m\u001b[0m\n\u001b[1;32m      4\u001b[0m \u001b[0mprint\u001b[0m\u001b[0;34m(\u001b[0m\u001b[0mdivide42\u001b[0m\u001b[0;34m(\u001b[0m\u001b[0;36m42\u001b[0m\u001b[0;34m)\u001b[0m\u001b[0;34m)\u001b[0m\u001b[0;34m\u001b[0m\u001b[0;34m\u001b[0m\u001b[0m\n\u001b[0;32m----> 5\u001b[0;31m \u001b[0mprint\u001b[0m\u001b[0;34m(\u001b[0m\u001b[0mdivide42\u001b[0m\u001b[0;34m(\u001b[0m\u001b[0;36m0\u001b[0m\u001b[0;34m)\u001b[0m\u001b[0;34m)\u001b[0m\u001b[0;34m\u001b[0m\u001b[0;34m\u001b[0m\u001b[0m\n\u001b[0m\u001b[1;32m      6\u001b[0m \u001b[0mprint\u001b[0m\u001b[0;34m(\u001b[0m\u001b[0mdivide42\u001b[0m\u001b[0;34m(\u001b[0m\u001b[0;36m1\u001b[0m\u001b[0;34m)\u001b[0m\u001b[0;34m)\u001b[0m\u001b[0;34m\u001b[0m\u001b[0;34m\u001b[0m\u001b[0m\n\u001b[1;32m      7\u001b[0m \u001b[0mprint\u001b[0m\u001b[0;34m(\u001b[0m\u001b[0mdivide42\u001b[0m\u001b[0;34m(\u001b[0m\u001b[0;36m21\u001b[0m\u001b[0;34m)\u001b[0m\u001b[0;34m)\u001b[0m\u001b[0;34m\u001b[0m\u001b[0;34m\u001b[0m\u001b[0m\n",
      "\u001b[0;32m<ipython-input-4-ffc585101112>\u001b[0m in \u001b[0;36mdivide42\u001b[0;34m(devideBy)\u001b[0m\n\u001b[1;32m      1\u001b[0m \u001b[0;32mdef\u001b[0m \u001b[0mdivide42\u001b[0m\u001b[0;34m(\u001b[0m\u001b[0mdevideBy\u001b[0m\u001b[0;34m)\u001b[0m\u001b[0;34m:\u001b[0m\u001b[0;34m\u001b[0m\u001b[0;34m\u001b[0m\u001b[0m\n\u001b[0;32m----> 2\u001b[0;31m     \u001b[0;32mreturn\u001b[0m \u001b[0;36m42\u001b[0m\u001b[0;34m/\u001b[0m \u001b[0mdevideBy\u001b[0m\u001b[0;34m\u001b[0m\u001b[0;34m\u001b[0m\u001b[0m\n\u001b[0m\u001b[1;32m      3\u001b[0m \u001b[0mprint\u001b[0m\u001b[0;34m(\u001b[0m\u001b[0mdivide42\u001b[0m\u001b[0;34m(\u001b[0m\u001b[0;36m2\u001b[0m\u001b[0;34m)\u001b[0m\u001b[0;34m)\u001b[0m\u001b[0;34m\u001b[0m\u001b[0;34m\u001b[0m\u001b[0m\n\u001b[1;32m      4\u001b[0m \u001b[0mprint\u001b[0m\u001b[0;34m(\u001b[0m\u001b[0mdivide42\u001b[0m\u001b[0;34m(\u001b[0m\u001b[0;36m42\u001b[0m\u001b[0;34m)\u001b[0m\u001b[0;34m)\u001b[0m\u001b[0;34m\u001b[0m\u001b[0;34m\u001b[0m\u001b[0m\n\u001b[1;32m      5\u001b[0m \u001b[0mprint\u001b[0m\u001b[0;34m(\u001b[0m\u001b[0mdivide42\u001b[0m\u001b[0;34m(\u001b[0m\u001b[0;36m0\u001b[0m\u001b[0;34m)\u001b[0m\u001b[0;34m)\u001b[0m\u001b[0;34m\u001b[0m\u001b[0;34m\u001b[0m\u001b[0m\n",
      "\u001b[0;31mZeroDivisionError\u001b[0m: division by zero"
     ]
    }
   ],
   "source": [
    "def divide42(devideBy): \n",
    "    return 42/ devideBy\n",
    "print(divide42(2)) \n",
    "print(divide42(42)) \n",
    "print(divide42(0)) \n",
    "print(divide42(1)) \n",
    "print(divide42(21)) \n"
   ]
  },
  {
   "cell_type": "code",
   "execution_count": 8,
   "metadata": {},
   "outputs": [
    {
     "name": "stdout",
     "output_type": "stream",
     "text": [
      "21.0\n",
      "1.0\n",
      "Invalid argument - None\n",
      "42.0\n",
      "2.0\n"
     ]
    }
   ],
   "source": [
    "def divide42(devideBy): \n",
    "    try:\n",
    "        return 42/ devideBy\n",
    "    except ZeroDivisionError:\n",
    "        print(\"Invalid argument - \",end=\"\")\n",
    "        \n",
    "print(divide42(2)) \n",
    "print(divide42(42)) \n",
    "print(divide42(0)) \n",
    "print(divide42(1)) \n",
    "print(divide42(21)) "
   ]
  },
  {
   "cell_type": "markdown",
   "metadata": {},
   "source": [
    "# Containers\n"
   ]
  },
  {
   "cell_type": "raw",
   "metadata": {},
   "source": [
    "Python includes several built-in container types: lists, dictionaries, sets, and tuples.\n",
    "\n",
    "Lists\n",
    "\n",
    "A list is the Python equivalent of an array, but is resizeable and can contain elements of different types:\n"
   ]
  },
  {
   "cell_type": "code",
   "execution_count": 10,
   "metadata": {
    "scrolled": false
   },
   "outputs": [
    {
     "name": "stdout",
     "output_type": "stream",
     "text": [
      "[3, 2, 1, 4] 4\n",
      "4\n",
      "[3, 2, 'Test', 4]\n",
      "[3, 2, 'Test', 4, 'Data']\n",
      "[3, 2, 'Test', 4]\n",
      "Data\n"
     ]
    }
   ],
   "source": [
    "listItem = [3,2,1,4]  #Create a list \n",
    "print(listItem, listItem[3]) #prints  [3,2,1,4]\n",
    "print(listItem[-1]) # Negative indices count from the end of the list: prints \"4\"\n",
    "listItem[2] = 'Test' # list can contain different type of element \n",
    "print(listItem) \n",
    "listItem.append('Data') # appends 'Data' in the last indices \n",
    "print(listItem) \n",
    "var = listItem.pop() # Deletes a data from the top of the list \n",
    "print(listItem) \n",
    "print(var)"
   ]
  },
  {
   "cell_type": "raw",
   "metadata": {},
   "source": [
    "Slicing: In addition to accessing list elements one at a time, Python provides concise syntax to access sublists; this is known as slicing:"
   ]
  },
  {
   "cell_type": "code",
   "execution_count": 12,
   "metadata": {},
   "outputs": [
    {
     "name": "stdout",
     "output_type": "stream",
     "text": [
      "[0, 1, 2, 3, 4, 5, 6, 7, 8, 9]\n",
      "[2, 3]\n",
      "[2, 3, 4, 5, 6, 7, 8, 9]\n",
      "[0, 1]\n",
      "[0, 1, 2, 3, 4, 5, 6, 7, 8, 9]\n",
      "[0, 1, 2, 3, 4, 5, 6, 7, 8]\n",
      "[0, 1, 8, 9, 4, 5, 6, 7, 8, 9]\n"
     ]
    }
   ],
   "source": [
    "nums = list(range(10))    # range is a built-in function that creates a list of integers\n",
    "print(nums)               # Prints \"[0, 1, 2, 3, 4]\"\n",
    "print(nums[2:4])          # Get a slice from index 2 to 4 (exclusive); prints \"[2, 3]\"\n",
    "print(nums[2:])           # Get a slice from index 2 to the end; prints \"[2, 3, 4]\"\n",
    "print(nums[:2])           # Get a slice from the start to index 2 (exclusive); prints \"[0, 1]\"\n",
    "print(nums[:])            # Get a slice of the whole list; prints \"[0, 1, 2, 3, 4]\"\n",
    "print(nums[:-1])          # Slice indices can be negative; prints \"[0, 1, 2, 3]\"\n",
    "nums[2:4] = [8, 9]        # Assign a new sublist to a slice\n",
    "print(nums)               # Prints \"[0, 1, 8, 9, 4]\""
   ]
  },
  {
   "cell_type": "code",
   "execution_count": 14,
   "metadata": {
    "scrolled": true
   },
   "outputs": [
    {
     "name": "stdout",
     "output_type": "stream",
     "text": [
      "4\n"
     ]
    }
   ],
   "source": [
    "#getting length of the string \n",
    "plist = ['test', 'word', 'fire', 'water']\n",
    "print(len(plist))\n"
   ]
  },
  {
   "cell_type": "code",
   "execution_count": 15,
   "metadata": {},
   "outputs": [
    {
     "name": "stdout",
     "output_type": "stream",
     "text": [
      "['another', 'word', 'test', 'word', 'fire', 'water']\n",
      "['another', 'word', 'another', 'word', 'another', 'word', 'another', 'word', 'another', 'word', 'another', 'word', 'another', 'word', 'another', 'word', 'another', 'word', 'another', 'word']\n"
     ]
    }
   ],
   "source": [
    "#string concatenation and replication \n",
    "plist = ['test', 'word', 'fire', 'water']\n",
    "llist = ['another', 'word']\n",
    "plist = llist + plist\n",
    "print(plist)\n",
    "llist = llist * 10\n",
    "print(llist)"
   ]
  },
  {
   "cell_type": "code",
   "execution_count": 16,
   "metadata": {},
   "outputs": [
    {
     "name": "stdout",
     "output_type": "stream",
     "text": [
      "Enter a pet name: \n",
      "Poka\n",
      "Poka is my pet.\n"
     ]
    }
   ],
   "source": [
    "# 'in' and 'not in' operator for list , dictionary, sets, tuple \n",
    "\n",
    "myPets = ['Zoophie', 'Poka', 'Fat-tail']\n",
    "print('Enter a pet name: ')\n",
    "name = input() \n",
    "if name not in myPets:\n",
    "    print('I do not have a pet named ' + name)\n",
    "else:\n",
    "    print(name + ' is my pet.')"
   ]
  },
  {
   "cell_type": "raw",
   "metadata": {},
   "source": [
    "Sorting the value in list : list.remove('cat') list.insert(1, 'chicken')"
   ]
  },
  {
   "cell_type": "code",
   "execution_count": 17,
   "metadata": {},
   "outputs": [
    {
     "name": "stdout",
     "output_type": "stream",
     "text": [
      "[-7, 1, 2, 3, 5, 14]\n",
      "[14, 5, 3, 2, 1, -7]\n",
      "['A', 'A', 'D', 'F', 'a', 'd']\n",
      "['a', 'A', 'A', 'D', 'd', 'F']\n"
     ]
    }
   ],
   "source": [
    "numberList = [2,5,3,14,1,-7]\n",
    "numberList.sort()\n",
    "print(numberList)\n",
    "numberList.sort(reverse=True)\n",
    "print(numberList)\n",
    "char = ['a', 'D', 'A', 'd', 'A', 'F']\n",
    "char.sort()\n",
    "print(char)\n",
    "char1 = ['a', 'D', 'A', 'd', 'A', 'F']\n",
    "char1.sort(key=str.lower)\n",
    "print(char1)"
   ]
  },
  {
   "cell_type": "raw",
   "metadata": {},
   "source": [
    "Mutable and Immutable data type - \n",
    "list is mutable \n",
    "string is immutable \n",
    "Tuple : \n",
    "Tuple is same as list but immutable and written with '( )' and append and remove operation can not be performed ---- \n",
    "\n",
    "Converting Types with the list() and tuple() Functions : \n",
    "\n",
    "list(tuple_data)\n",
    "\n",
    "tuple(list_data)\n",
    "\n",
    "list('hello') ---- ['h', 'e', 'l', 'l', 'l', 'o']\n"
   ]
  },
  {
   "cell_type": "raw",
   "metadata": {},
   "source": [
    "# References \n",
    "Variable references does not store the initial value form the variable it's refer to the recent assignment, but list refers to same data whether it is assigns to any variable, update in one place change the change in all list variable. \n",
    "\n",
    "If you want to assign list variable value to other list variable then use\n",
    "`newVer = copy().copy(var)`\n",
    "then change in var will not affect to newVar "
   ]
  },
  {
   "cell_type": "raw",
   "metadata": {},
   "source": [
    "# Dictionaries and Structuring Data\n",
    "\n",
    "> uses keys and key - value pair \n",
    "\n",
    "\n",
    "```\n",
    "myCat = {'size': 'fat', 'color': 'gray', 'disposition': 'loud'}\n",
    "```\n",
    "Data organization / chronogical order is not necessary , if there is same information available in different order then dictionaries are same but list are not same. "
   ]
  },
  {
   "cell_type": "code",
   "execution_count": 18,
   "metadata": {},
   "outputs": [
    {
     "name": "stdout",
     "output_type": "stream",
     "text": [
      "Enter a name: (blank to quit)\n",
      "\n"
     ]
    }
   ],
   "source": [
    "birthdays = {'Alice': 'Apr 1', 'Bob': 'Dec 12', 'Carol': 'Mar 4'}\n",
    "while True:\n",
    "    print('Enter a name: (blank to quit)')\n",
    "    name = input()\n",
    "    if name == '':\n",
    "        break\n",
    "    if name in birthdays:\n",
    "        print(birthdays[name] + ' is the birthday of ' + name)\n",
    "    else: \n",
    "        print('I do not have birthday information for ' + name)\n",
    "        print('What is their birthday? ')\n",
    "        bday = input()\n",
    "        birthdays[name] = bday\n",
    "        print('Birthday database updated.')"
   ]
  },
  {
   "cell_type": "code",
   "execution_count": 19,
   "metadata": {},
   "outputs": [
    {
     "name": "stdout",
     "output_type": "stream",
     "text": [
      "dict_keys(['color', 'age'])\n",
      "dict_values(['red', 42])\n",
      "dict_items([('color', 'red'), ('age', 42)])\n",
      "color\n",
      "age\n",
      "red\n",
      "42\n",
      "('color', 'red')\n",
      "('age', 42)\n",
      "key :color value: red\n",
      "key :age value: 42\n"
     ]
    }
   ],
   "source": [
    "# keys(), values(), items() \n",
    "spam = {'color': 'red', 'age': 42}\n",
    "print(spam.keys())\n",
    "print(spam.values())\n",
    "print(spam.items())\n",
    "\n",
    "#keys()s value print via for loop \n",
    "for i in spam.keys(): \n",
    "    print(i)\n",
    "#values() \n",
    "for i in spam.values(): \n",
    "    print(i)\n",
    "#items \n",
    "for i in spam.items():\n",
    "    print(i)\n",
    "for k, v in spam.items():\n",
    "    print('key :' + str(k) + ' value: ' + str(v))\n"
   ]
  },
  {
   "cell_type": "code",
   "execution_count": null,
   "metadata": {},
   "outputs": [],
   "source": []
  }
 ],
 "metadata": {
  "kernelspec": {
   "display_name": "Python 3",
   "language": "python",
   "name": "python3"
  },
  "language_info": {
   "codemirror_mode": {
    "name": "ipython",
    "version": 3
   },
   "file_extension": ".py",
   "mimetype": "text/x-python",
   "name": "python",
   "nbconvert_exporter": "python",
   "pygments_lexer": "ipython3",
   "version": "3.7.1"
  }
 },
 "nbformat": 4,
 "nbformat_minor": 2
}
